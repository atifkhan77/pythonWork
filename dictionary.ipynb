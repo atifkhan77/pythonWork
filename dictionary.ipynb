{
 "cells": [
  {
   "cell_type": "code",
   "execution_count": 13,
   "id": "c3178a64",
   "metadata": {},
   "outputs": [
    {
     "name": "stdout",
     "output_type": "stream",
     "text": [
      "enter word to search: supermann\n",
      "did you mean superman instead: \n",
      "y for yes and n for no: y\n",
      "A powerful hallucinogenic drug manufactured from lysergic acid.\n"
     ]
    }
   ],
   "source": [
    "import json\n",
    "from difflib import get_close_matches\n",
    "data = json.load(open(\"data.json\"))\n",
    "def translate(word):\n",
    "    word = word.lower()\n",
    "    if word in data:\n",
    "        return data[word]\n",
    "    elif word.title() in data:\n",
    "        return data[word.title()]\n",
    "    elif word.upper() in data:\n",
    "        return data[word.upper()]\n",
    "    elif len(get_close_matches(word,data.keys())[0]):\n",
    "        print(\"did you mean %s instead: \" %get_close_matches(word,data.keys())[0])\n",
    "        decide = input(\"y for yes and n for no: \")\n",
    "        if(decide == 'y'):\n",
    "            return data[get_close_matches(word,data.keys())[0]]\n",
    "        elif decide=='n':\n",
    "            print(\"this word does not exits\")\n",
    "    else :\n",
    "        print(\"this word does not exits\")\n",
    "\n",
    "    \n",
    "word = input(\"enter word to search: \")\n",
    "output = translate(word)\n",
    "if (type(output)==list):\n",
    "    for item in output:\n",
    "        print(item)\n",
    "else:\n",
    "    print(output)\n"
   ]
  },
  {
   "cell_type": "code",
   "execution_count": null,
   "id": "d4d6c811",
   "metadata": {},
   "outputs": [],
   "source": []
  }
 ],
 "metadata": {
  "kernelspec": {
   "display_name": "Python 3 (ipykernel)",
   "language": "python",
   "name": "python3"
  },
  "language_info": {
   "codemirror_mode": {
    "name": "ipython",
    "version": 3
   },
   "file_extension": ".py",
   "mimetype": "text/x-python",
   "name": "python",
   "nbconvert_exporter": "python",
   "pygments_lexer": "ipython3",
   "version": "3.9.13"
  }
 },
 "nbformat": 4,
 "nbformat_minor": 5
}
