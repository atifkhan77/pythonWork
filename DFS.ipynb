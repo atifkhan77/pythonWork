{
  "nbformat": 4,
  "nbformat_minor": 0,
  "metadata": {
    "colab": {
      "provenance": []
    },
    "kernelspec": {
      "name": "python3",
      "display_name": "Python 3"
    },
    "language_info": {
      "name": "python"
    }
  },
  "cells": [
    {
      "cell_type": "code",
      "execution_count": null,
      "metadata": {
        "id": "coloIKND0yIc"
      },
      "outputs": [],
      "source": [
        "class Node:\n",
        "    def __init__(self,state,parent,actions,totalcost):\n",
        "        self.state = state\n",
        "        self.parent = parent\n",
        "        self.actions = actions\n",
        "        self.totalcost = totalcost"
      ]
    },
    {
      "cell_type": "code",
      "source": [
        "nodeOfGraph = {\n",
        "    \"A\":Node(\"A\",None,[\"B\",\"E\",\"C\"],None),\n",
        "    \"B\":Node(\"B\",None,[\"D\",\"E\",\"A\"],None),\n",
        "    \"C\":Node(\"C\",None,[\"A\",\"F\",\"G\"],None),\n",
        "    \"D\":Node(\"D\",None,[\"D\",\"E\"],None),\n",
        "    \"E\":Node(\"E\",None,[\"A\",\"B\",\"D\",\"F\"],None),\n",
        "    \"F\":Node(\"F\",None,[\"C\",\"E\"],None),\n",
        "    \"G\":Node(\"G\",None,[\"C\"],None),\n",
        "}"
      ],
      "metadata": {
        "id": "WVSuClnfwewa"
      },
      "execution_count": null,
      "outputs": []
    },
    {
      "cell_type": "markdown",
      "source": [
        "DFS:"
      ],
      "metadata": {
        "id": "h7qndUu6vPxh"
      }
    },
    {
      "cell_type": "code",
      "source": [],
      "metadata": {
        "id": "EwWqAj3b05Za"
      },
      "execution_count": null,
      "outputs": []
    },
    {
      "cell_type": "code",
      "source": [
        "def nodeofDFS(rootVar,destinationVar,graphVar,stack,visited):\n",
        "    if(stack==[]):\n",
        "        stack.append(rootVar)\n",
        "        visited.append(rootVar)\n",
        "\n",
        "    parent = stack[-1]\n",
        "    for node in graphVar[parent].actions:\n",
        "        if(graphVar[node].actions==[]):\n",
        "            graphVar[node].append(parent)\n",
        "        if(node in visited):\n",
        "            continue\n",
        "        stack.append(node)\n",
        "        visited.append(node)\n",
        "        if(node==destinationVar):\n",
        "            break\n",
        "        nodeofDFS(node,destinationVar,graphVar,stack,visited)\n",
        "    if(stack[-1]!=destinationVar):\n",
        "        temp = stack.pop()\n",
        "    return stack\n",
        "print(nodeofDFS(\"A\",\"F\",nodeOfGraph,[],[]))"
      ],
      "metadata": {
        "id": "eEIX03Bx08cn",
        "colab": {
          "base_uri": "https://localhost:8080/"
        },
        "outputId": "2414facd-2504-4944-c29d-8b8befe49ec3"
      },
      "execution_count": null,
      "outputs": [
        {
          "output_type": "stream",
          "name": "stdout",
          "text": [
            "['A', 'B', 'D', 'E', 'F']\n"
          ]
        }
      ]
    },
    {
      "cell_type": "markdown",
      "source": [
        "IDS:"
      ],
      "metadata": {
        "id": "-aGLJx_xvRH1"
      }
    },
    {
      "cell_type": "code",
      "source": [
        "def nodeofIDS(rootVar, destinationVar, graphVar):\n",
        "    depth = 0\n",
        "    while True:\n",
        "        visited = set()\n",
        "        stack = [(rootVar, 0)]\n",
        "        while stack:\n",
        "            node, node_depth = stack.pop()\n",
        "            if node == destinationVar:\n",
        "                # Build and return the path from destination to root\n",
        "                path = [node]\n",
        "                while node != rootVar:\n",
        "                    node = graphVar[node].parent\n",
        "                    path.append(node)\n",
        "                path.reverse()\n",
        "                return path\n",
        "\n",
        "            if node_depth < depth:\n",
        "                visited.add(node)\n",
        "                for child in reversed(graphVar[node].actions):\n",
        "                    if child not in visited:\n",
        "                        graphVar[child].parent = node\n",
        "                        stack.append((child, node_depth + 1))\n",
        "\n",
        "        depth += 1\n",
        "        if depth > len(graphVar):\n",
        "            return None\n",
        "print(nodeofIDS(\"A\",\"F\",nodeOfGraph))\n"
      ],
      "metadata": {
        "colab": {
          "base_uri": "https://localhost:8080/"
        },
        "id": "2GDR3b77vSgm",
        "outputId": "db93af1a-e155-4c2d-9eb2-07af675f8254"
      },
      "execution_count": null,
      "outputs": [
        {
          "output_type": "stream",
          "name": "stdout",
          "text": [
            "['A', 'B', 'E', 'F']\n"
          ]
        }
      ]
    },
    {
      "cell_type": "code",
      "source": [],
      "metadata": {
        "id": "4QOx6qrQv6pP"
      },
      "execution_count": null,
      "outputs": []
    }
  ]
}