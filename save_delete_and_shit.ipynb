{
 "cells": [
  {
   "cell_type": "code",
   "execution_count": 2,
   "id": "85ef4808",
   "metadata": {},
   "outputs": [],
   "source": [
    "import numpy as np\n",
    "a = np.array([1,2,3,4,5,6,7,8,9])\n",
    "np.save('save_delete_and_shit',a)"
   ]
  },
  {
   "cell_type": "code",
   "execution_count": 4,
   "id": "d236250b",
   "metadata": {},
   "outputs": [
    {
     "data": {
      "text/plain": [
       "array([1., 2., 3., 4., 5., 6.])"
      ]
     },
     "execution_count": 4,
     "metadata": {},
     "output_type": "execute_result"
    }
   ],
   "source": [
    "np.loadtxt('hi.csv')"
   ]
  },
  {
   "cell_type": "code",
   "execution_count": 9,
   "id": "cea5631f",
   "metadata": {},
   "outputs": [],
   "source": [
    "x = np.linspace(2,5,20)"
   ]
  },
  {
   "cell_type": "code",
   "execution_count": 10,
   "id": "ccd84784",
   "metadata": {},
   "outputs": [
    {
     "data": {
      "text/plain": [
       "array([2.        , 2.15789474, 2.31578947, 2.47368421, 2.63157895,\n",
       "       2.78947368, 2.94736842, 3.10526316, 3.26315789, 3.42105263,\n",
       "       3.57894737, 3.73684211, 3.89473684, 4.05263158, 4.21052632,\n",
       "       4.36842105, 4.52631579, 4.68421053, 4.84210526, 5.        ])"
      ]
     },
     "execution_count": 10,
     "metadata": {},
     "output_type": "execute_result"
    }
   ],
   "source": [
    "x"
   ]
  },
  {
   "cell_type": "code",
   "execution_count": null,
   "id": "a285f57a",
   "metadata": {},
   "outputs": [],
   "source": []
  }
 ],
 "metadata": {
  "kernelspec": {
   "display_name": "Python 3 (ipykernel)",
   "language": "python",
   "name": "python3"
  },
  "language_info": {
   "codemirror_mode": {
    "name": "ipython",
    "version": 3
   },
   "file_extension": ".py",
   "mimetype": "text/x-python",
   "name": "python",
   "nbconvert_exporter": "python",
   "pygments_lexer": "ipython3",
   "version": "3.9.13"
  }
 },
 "nbformat": 4,
 "nbformat_minor": 5
}
